{
 "cells": [
  {
   "cell_type": "markdown",
   "metadata": {
    "id": "AIRj-GnaBx5U"
   },
   "source": [
    "# Diabetes Prediction Using K-Nearest Neighbors (KNN)\n",
    "**Author:** Giovanna Cardenas  \n",
    "**Description:** This notebook implements a K-Nearest Neighbors (KNN) classification model to predict the likelihood of diabetes based on patient health indicators. The model is evaluated across multiple values of k to identify the optimal number of neighbors for classification accuracy."
   ]
  },
  {
   "cell_type": "code",
   "execution_count": 5,
   "metadata": {
    "id": "1gTe6ihJBwga"
   },
   "outputs": [],
   "source": [
    "# Import packages\n",
    "import numpy as np\n",
    "import pandas as pd\n",
    "import warnings\n",
    "warnings.filterwarnings('ignore')\n",
    "from sklearn.neighbors import KNeighborsClassifier\n",
    "from sklearn.model_selection import train_test_split"
   ]
  },
  {
   "cell_type": "code",
   "execution_count": 6,
   "metadata": {
    "colab": {
     "base_uri": "https://localhost:8080/",
     "height": 226
    },
    "id": "zx_XpBHrB5TA",
    "outputId": "cbcc2031-37d6-49f5-9cd3-0330580f5ce0"
   },
   "outputs": [
    {
     "data": {
      "text/html": [
       "<div>\n",
       "<style scoped>\n",
       "    .dataframe tbody tr th:only-of-type {\n",
       "        vertical-align: middle;\n",
       "    }\n",
       "\n",
       "    .dataframe tbody tr th {\n",
       "        vertical-align: top;\n",
       "    }\n",
       "\n",
       "    .dataframe thead th {\n",
       "        text-align: right;\n",
       "    }\n",
       "</style>\n",
       "<table border=\"1\" class=\"dataframe\">\n",
       "  <thead>\n",
       "    <tr style=\"text-align: right;\">\n",
       "      <th></th>\n",
       "      <th>Pregnancies</th>\n",
       "      <th>Glucose</th>\n",
       "      <th>BloodPressure</th>\n",
       "      <th>SkinThickness</th>\n",
       "      <th>Insulin</th>\n",
       "      <th>BMI</th>\n",
       "      <th>DiabetesPedigreeFunction</th>\n",
       "      <th>Age</th>\n",
       "      <th>Outcome</th>\n",
       "    </tr>\n",
       "  </thead>\n",
       "  <tbody>\n",
       "    <tr>\n",
       "      <th>0</th>\n",
       "      <td>6</td>\n",
       "      <td>148</td>\n",
       "      <td>72</td>\n",
       "      <td>35</td>\n",
       "      <td>0</td>\n",
       "      <td>33.6</td>\n",
       "      <td>0.627</td>\n",
       "      <td>50</td>\n",
       "      <td>1</td>\n",
       "    </tr>\n",
       "    <tr>\n",
       "      <th>1</th>\n",
       "      <td>1</td>\n",
       "      <td>85</td>\n",
       "      <td>66</td>\n",
       "      <td>29</td>\n",
       "      <td>0</td>\n",
       "      <td>26.6</td>\n",
       "      <td>0.351</td>\n",
       "      <td>31</td>\n",
       "      <td>0</td>\n",
       "    </tr>\n",
       "    <tr>\n",
       "      <th>2</th>\n",
       "      <td>8</td>\n",
       "      <td>183</td>\n",
       "      <td>64</td>\n",
       "      <td>0</td>\n",
       "      <td>0</td>\n",
       "      <td>23.3</td>\n",
       "      <td>0.672</td>\n",
       "      <td>32</td>\n",
       "      <td>1</td>\n",
       "    </tr>\n",
       "    <tr>\n",
       "      <th>3</th>\n",
       "      <td>1</td>\n",
       "      <td>89</td>\n",
       "      <td>66</td>\n",
       "      <td>23</td>\n",
       "      <td>94</td>\n",
       "      <td>28.1</td>\n",
       "      <td>0.167</td>\n",
       "      <td>21</td>\n",
       "      <td>0</td>\n",
       "    </tr>\n",
       "    <tr>\n",
       "      <th>4</th>\n",
       "      <td>0</td>\n",
       "      <td>137</td>\n",
       "      <td>40</td>\n",
       "      <td>35</td>\n",
       "      <td>168</td>\n",
       "      <td>43.1</td>\n",
       "      <td>2.288</td>\n",
       "      <td>33</td>\n",
       "      <td>1</td>\n",
       "    </tr>\n",
       "  </tbody>\n",
       "</table>\n",
       "</div>"
      ],
      "text/plain": [
       "   Pregnancies  Glucose  BloodPressure  SkinThickness  Insulin   BMI  \\\n",
       "0            6      148             72             35        0  33.6   \n",
       "1            1       85             66             29        0  26.6   \n",
       "2            8      183             64              0        0  23.3   \n",
       "3            1       89             66             23       94  28.1   \n",
       "4            0      137             40             35      168  43.1   \n",
       "\n",
       "   DiabetesPedigreeFunction  Age  Outcome  \n",
       "0                     0.627   50        1  \n",
       "1                     0.351   31        0  \n",
       "2                     0.672   32        1  \n",
       "3                     0.167   21        0  \n",
       "4                     2.288   33        1  "
      ]
     },
     "execution_count": 6,
     "metadata": {},
     "output_type": "execute_result"
    }
   ],
   "source": [
    "# Load data\n",
    "data = pd.read_csv('diabetes.csv')\n",
    "data.head()"
   ]
  },
  {
   "cell_type": "code",
   "execution_count": 7,
   "metadata": {
    "colab": {
     "base_uri": "https://localhost:8080/"
    },
    "id": "-v1sQSLwEKgP",
    "outputId": "41b4c455-08d7-4979-aeba-d7a703143561"
   },
   "outputs": [
    {
     "data": {
      "text/plain": [
       "0.7604166666666666"
      ]
     },
     "execution_count": 7,
     "metadata": {},
     "output_type": "execute_result"
    }
   ],
   "source": [
    "# Create KNN Classification Model\n",
    "KNN_cls = KNeighborsClassifier(n_neighbors=3)\n",
    "x_data, y_data = data[['Pregnancies', 'Glucose', 'BloodPressure', 'SkinThickness', 'Insulin',\n",
    "                       'BMI', 'DiabetesPedigreeFunction', 'Age']], data[['Outcome']]\n",
    "\n",
    "# Partition the data and fit it into the model\n",
    "x_train, x_test, y_train, y_test= train_test_split(x_data,y_data,random_state=17)\n",
    "KNN_cls.fit(x_train, y_train)\n",
    "\n",
    "# Measure how accurate the model is by inputing the testing data set\n",
    "KNN_cls.score(x_test, y_test)"
   ]
  },
  {
   "cell_type": "code",
   "execution_count": 8,
   "metadata": {
    "colab": {
     "base_uri": "https://localhost:8080/"
    },
    "id": "vS1m6TMFPSGr",
    "outputId": "1294748c-4a97-449d-dcc9-15a7a04fca23"
   },
   "outputs": [
    {
     "name": "stdout",
     "output_type": "stream",
     "text": [
      "     k  Accuracy\n",
      "0    1  0.697917\n",
      "1    2  0.729167\n",
      "2    3  0.760417\n",
      "3    4  0.739583\n",
      "4    5  0.776042\n",
      "5    6  0.744792\n",
      "6    7  0.760417\n",
      "7    8  0.744792\n",
      "8    9  0.739583\n",
      "9   10  0.729167\n",
      "10  11  0.755208\n",
      "11  12  0.755208\n",
      "12  13  0.765625\n",
      "13  14  0.755208\n"
     ]
    }
   ],
   "source": [
    "# Create a for loop to determine the accuracy score for several values of 'k'\n",
    "result= []\n",
    "for k in range(1,15):\n",
    "  KNN_cls_k= KNeighborsClassifier(n_neighbors=k)\n",
    "  KNN_cls_k.fit(x_train, y_train)\n",
    "  result.append({'k': k, 'Accuracy': KNN_cls_k.score(x_test, y_test)})\n",
    "\n",
    "result= pd.DataFrame(result)\n",
    "print(result)"
   ]
  },
  {
   "cell_type": "code",
   "execution_count": 13,
   "metadata": {
    "colab": {
     "base_uri": "https://localhost:8080/"
    },
    "id": "eu62ymxvNDJH",
    "outputId": "f9306d9c-203e-4204-d59f-36a9be235d0d"
   },
   "outputs": [
    {
     "name": "stdout",
     "output_type": "stream",
     "text": [
      "k           13\n",
      "Accuracy     4\n",
      "dtype: int64\n"
     ]
    }
   ],
   "source": [
    "# Find the index of the value of 'k' with the highest accuracy score\n",
    "max_k= result.idxmax()\n",
    "print(max_k)"
   ]
  },
  {
   "cell_type": "code",
   "execution_count": 15,
   "metadata": {
    "colab": {
     "base_uri": "https://localhost:8080/"
    },
    "id": "pGmHffsyP0ff",
    "outputId": "9539291f-eeec-4df3-afed-832cd63e5435"
   },
   "outputs": [
    {
     "data": {
      "text/plain": [
       "0.7760416666666666"
      ]
     },
     "execution_count": 15,
     "metadata": {},
     "output_type": "execute_result"
    }
   ],
   "source": [
    "# Update the KNN Classification model so it uses the optimal value of nearest neighbors(k)\n",
    "KNN_cls = KNeighborsClassifier(n_neighbors=5)\n",
    "x_data, y_data = data[['Pregnancies', 'Glucose', 'BloodPressure', 'SkinThickness', 'Insulin',\n",
    "                       'BMI', 'DiabetesPedigreeFunction', 'Age']], data[['Outcome']]\n",
    "x_train, x_test, y_train, y_test= train_test_split(x_data,y_data,random_state=17)\n",
    "KNN_cls.fit(x_train, y_train)\n",
    "KNN_cls.score(x_test, y_test)"
   ]
  },
  {
   "cell_type": "code",
   "execution_count": 17,
   "metadata": {
    "colab": {
     "base_uri": "https://localhost:8080/"
    },
    "id": "y7lokcI8Kj3Y",
    "outputId": "35354d3b-9d9a-41e1-9599-3fba3f3a0dec"
   },
   "outputs": [
    {
     "name": "stdout",
     "output_type": "stream",
     "text": [
      "Predicted Outcome: [1]\n"
     ]
    }
   ],
   "source": [
    "# Predict the outcome of a new observation using the model\n",
    "prediction = KNN_cls.predict([[3, 150, 80, 22, 10, 40, 2.3, 66]])\n",
    "print(f\"Predicted Outcome: {prediction}\")"
   ]
  },
  {
   "cell_type": "code",
   "execution_count": 19,
   "metadata": {},
   "outputs": [],
   "source": [
    "# This observation is predicted to be class 1 which suggests they likely have diabetes."
   ]
  }
 ],
 "metadata": {
  "colab": {
   "provenance": []
  },
  "kernelspec": {
   "display_name": "Python [conda env:base] *",
   "language": "python",
   "name": "conda-base-py"
  },
  "language_info": {
   "codemirror_mode": {
    "name": "ipython",
    "version": 3
   },
   "file_extension": ".py",
   "mimetype": "text/x-python",
   "name": "python",
   "nbconvert_exporter": "python",
   "pygments_lexer": "ipython3",
   "version": "3.11.5"
  }
 },
 "nbformat": 4,
 "nbformat_minor": 4
}
